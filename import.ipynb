{
  "nbformat": 4,
  "nbformat_minor": 0,
  "metadata": {
    "colab": {
      "name": "import.ipynb의 사본",
      "provenance": [],
      "include_colab_link": true
    },
    "kernelspec": {
      "name": "python3",
      "display_name": "Python 3"
    },
    "language_info": {
      "name": "python"
    }
  },
  "cells": [
    {
      "cell_type": "markdown",
      "metadata": {
        "id": "view-in-github",
        "colab_type": "text"
      },
      "source": [
        "<a href=\"https://colab.research.google.com/github/navistwon/class2021Spring/blob/main/import.ipynb\" target=\"_parent\"><img src=\"https://colab.research.google.com/assets/colab-badge.svg\" alt=\"Open In Colab\"/></a>"
      ]
    },
    {
      "cell_type": "code",
      "metadata": {
        "id": "JXicrkYOzPRo"
      },
      "source": [
        "import numpy as np\n",
        "n = np.random.randn(100)"
      ],
      "execution_count": 1,
      "outputs": []
    },
    {
      "cell_type": "markdown",
      "metadata": {
        "id": "ih0VMbvfgt0G"
      },
      "source": [
        "n에다가 100개의 숫자를 만든 것 \n",
        "\n",
        "randn - 0을 중심으로 한 정규분포를 가지는 숫자를 만든다."
      ]
    },
    {
      "cell_type": "code",
      "metadata": {
        "id": "oKT4vn4MwyLA"
      },
      "source": [
        "import matplotlib\n",
        "import matplotlib.pyplot\n",
        "from matplotlib import pyplot\n",
        "from matplotlib.pyplot import hist"
      ],
      "execution_count": null,
      "outputs": []
    },
    {
      "cell_type": "markdown",
      "metadata": {
        "id": "PBuk9K4MgXrQ"
      },
      "source": [
        "hist로 위의 저 숫자를 정렬할 수 있음.\n",
        "\n",
        "matplotlib이라는 패키지 안에\n",
        "\n",
        "pyplot.py라는 모듈 안에있는 클래스, 함수 등등들 중에\n",
        "\n",
        "hist()라는 함수를 가져오고 싶을 때.\n",
        "\n",
        "1열: 통째로 matplot을 가져올 수도 있음. 그럼 matplotlib.pyplot.hist(n)로 그 밑에 쓰면 됨.\n",
        "\n",
        "2열: 패키지 안에 pyplot이라는 모듈을 가져오기\n",
        "\n",
        "3열: from은 그 상위 개념을 써주고 import에 그 하위개념을 써주는 것. 2열과 내용은 같지만...\n",
        "\n",
        "from matplotlib import hist도 가능\n"
      ]
    }
  ]
}