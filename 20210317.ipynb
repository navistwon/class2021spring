{
  "nbformat": 4,
  "nbformat_minor": 0,
  "metadata": {
    "colab": {
      "name": "20210317.ipynb",
      "provenance": [],
      "authorship_tag": "ABX9TyPuevlewEViPHXd29Jtb+WI",
      "include_colab_link": true
    },
    "kernelspec": {
      "name": "python3",
      "display_name": "Python 3"
    }
  },
  "cells": [
    {
      "cell_type": "markdown",
      "metadata": {
        "id": "view-in-github",
        "colab_type": "text"
      },
      "source": [
        "<a href=\"https://colab.research.google.com/github/navistwon/class2021Spring/blob/main/20210317.ipynb\" target=\"_parent\"><img src=\"https://colab.research.google.com/assets/colab-badge.svg\" alt=\"Open In Colab\"/></a>"
      ]
    },
    {
      "cell_type": "code",
      "metadata": {
        "colab": {
          "base_uri": "https://localhost:8080/"
        },
        "id": "5KPQfbR_ujtS",
        "outputId": "b7ca8240-ecd0-40fa-fb20-75e2f4289fd3"
      },
      "source": [
        "a = [2, 4, 6, 8]\r\n",
        "for i in range(1,13,3):\r\n",
        "  for j in a:\r\n",
        "    if i*j >= 25:\r\n",
        "      print(i)\r\n",
        "      print(j)\r\n",
        "      print(i*j)\r\n"
      ],
      "execution_count": 5,
      "outputs": [
        {
          "output_type": "stream",
          "text": [
            "4\n",
            "8\n",
            "32\n",
            "7\n",
            "4\n",
            "28\n",
            "7\n",
            "6\n",
            "42\n",
            "7\n",
            "8\n",
            "56\n",
            "10\n",
            "4\n",
            "40\n",
            "10\n",
            "6\n",
            "60\n",
            "10\n",
            "8\n",
            "80\n"
          ],
          "name": "stdout"
        }
      ]
    },
    {
      "cell_type": "markdown",
      "metadata": {
        "id": "u6wzqv3RwTWF"
      },
      "source": [
        "i는 1 4 7 10 가 들어오고 j는 2, 4, 6, 8이 들어오겠네\r\n",
        "\r\n",
        "2 4 6 8 \r\n",
        "\r\n",
        "8 16 24 32\r\n",
        "\r\n",
        "14 28 42 56\r\n",
        "\r\n",
        "20 40 60 80"
      ]
    },
    {
      "cell_type": "code",
      "metadata": {
        "colab": {
          "base_uri": "https://localhost:8080/"
        },
        "id": "bn78q1ndvmIv",
        "outputId": "73b6650e-0441-4dc0-aded-ed94d784bdd8"
      },
      "source": [
        "a = ['k', 'ko', 'kor', 'kore', 'korea']\r\n",
        "b = [i for i in a if len(i)>=3]\r\n",
        "print(b)"
      ],
      "execution_count": 10,
      "outputs": [
        {
          "output_type": "stream",
          "text": [
            "['kor', 'kore', 'korea']\n"
          ],
          "name": "stdout"
        }
      ]
    }
  ]
}