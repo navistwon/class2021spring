{
  "nbformat": 4,
  "nbformat_minor": 0,
  "metadata": {
    "colab": {
      "name": "function.ipynb의 사본",
      "provenance": [],
      "include_colab_link": true
    },
    "kernelspec": {
      "name": "python3",
      "display_name": "Python 3"
    }
  },
  "cells": [
    {
      "cell_type": "markdown",
      "metadata": {
        "id": "view-in-github",
        "colab_type": "text"
      },
      "source": [
        "<a href=\"https://colab.research.google.com/github/navistwon/class2021Spring/blob/main/function.ipynb\" target=\"_parent\"><img src=\"https://colab.research.google.com/assets/colab-badge.svg\" alt=\"Open In Colab\"/></a>"
      ]
    },
    {
      "cell_type": "code",
      "metadata": {
        "id": "hpc_mhgAye2S"
      },
      "source": [
        "def add(a,b):\n",
        "  return a+b\n",
        "\n",
        "def subtract(a,b):\n",
        "  return a-b\n",
        "\n",
        "def multiply(a,b):\n",
        "  return a*b\n",
        "\n",
        "def divide(a,b):\n",
        "  return a/b"
      ],
      "execution_count": null,
      "outputs": []
    },
    {
      "cell_type": "markdown",
      "metadata": {
        "id": "Y-bJ7t0tWCAT"
      },
      "source": [
        "첫번째 함수를\n",
        "\n",
        "def add(a,b):\n",
        "\n",
        "  o = a + b\n",
        "\n",
        "이런식으로 바꾸면 (출력을 없애면) 그래도 함수가 정의되기는 한다. 입력을 없앴을 때도 마찬가지.\n",
        "\n",
        "  "
      ]
    },
    {
      "cell_type": "markdown",
      "metadata": {
        "id": "Ulkg-vt5UmLy"
      },
      "source": [
        "1차함수의 경우\n",
        "\n",
        "def func1(x):\n",
        "\n",
        "  a=1, b=2\n",
        "\n",
        "  y=ax+b\n",
        "  \n",
        "  return y\n",
        "\n",
        "이런 식으로"
      ]
    },
    {
      "cell_type": "code",
      "metadata": {
        "colab": {
          "base_uri": "https://localhost:8080/"
        },
        "id": "8Y4oa05Eykn4",
        "outputId": "7e186590-61dc-49a9-e22f-0bcb617fd3b7"
      },
      "source": [
        "c = add(1,2); print(c)\n",
        "c = subtract(1,2); print(c)\n",
        "c = multiply(1,2); print(c)\n",
        "c = divide(1,2); print(c)"
      ],
      "execution_count": null,
      "outputs": [
        {
          "output_type": "stream",
          "text": [
            "3\n",
            "-1\n",
            "2\n",
            "0.5\n"
          ],
          "name": "stdout"
        }
      ]
    },
    {
      "cell_type": "code",
      "metadata": {
        "id": "H-QAy6bkWvdc",
        "outputId": "f9ac27c2-63c4-4078-aa85-40ca387f5c08",
        "colab": {
          "base_uri": "https://localhost:8080/"
        }
      },
      "source": [
        "def multi(a,b):\n",
        "  return a, b\n",
        "\n",
        "result = multi(1, 2)\n",
        "print(result)\n",
        "type(result)"
      ],
      "execution_count": 1,
      "outputs": [
        {
          "output_type": "stream",
          "text": [
            "(1, 2)\n"
          ],
          "name": "stdout"
        },
        {
          "output_type": "execute_result",
          "data": {
            "text/plain": [
              "tuple"
            ]
          },
          "metadata": {
            "tags": []
          },
          "execution_count": 1
        }
      ]
    },
    {
      "cell_type": "markdown",
      "metadata": {
        "id": "jXYslis-XD0N"
      },
      "source": [
        "이렇게 출력이 한 개 이상일 수도 있다. 즉 입력도 출력도 두 개 이상일 수 있다.\n",
        "\n",
        "그 때, 이를 이렇게 출력해보면 튜블형식으로 출력되는 것을 알 수 있다."
      ]
    }
  ]
}