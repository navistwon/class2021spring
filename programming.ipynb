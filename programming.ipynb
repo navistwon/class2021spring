{
  "nbformat": 4,
  "nbformat_minor": 0,
  "metadata": {
    "colab": {
      "name": "programming.ipynb",
      "provenance": [],
      "authorship_tag": "ABX9TyObBMcxPjlKoJpLKpScq7/t",
      "include_colab_link": true
    },
    "kernelspec": {
      "name": "python3",
      "display_name": "Python 3"
    }
  },
  "cells": [
    {
      "cell_type": "markdown",
      "metadata": {
        "id": "view-in-github",
        "colab_type": "text"
      },
      "source": [
        "<a href=\"https://colab.research.google.com/github/navistwon/class2021Spring/blob/main/programming.ipynb\" target=\"_parent\"><img src=\"https://colab.research.google.com/assets/colab-badge.svg\" alt=\"Open In Colab\"/></a>"
      ]
    },
    {
      "cell_type": "markdown",
      "metadata": {
        "id": "TyqZQslCouaR"
      },
      "source": [
        "#컴퓨터 언어의 주요 용어\r\n",
        "\r\n",
        "###1. 변수\r\n",
        "인간의 언어에서 어떠한 단어에 개념을 넣듯, 컴퓨터 언어도 이와 유사한 구조를 띈다.\r\n",
        "인간의 언어에서 단어에 해당하는 부분을 변수라고 칭하며, 그 때 인간의 언어에서 개념에 해당하는 부분을 그 변수의 내용으로 볼 수 있다.\r\n",
        "\r\n",
        "가령, '사과'라는 인간의 단어 속에 '~한 특징을 지닌 빨간 열매'라는 개념이 들어있는 것을 생각했을 때, 컴퓨터 언어에서는 이 단어에 해당하는 변수에 내용을 작위적으로 넣을 수 있는 것이다. 즉, a라는 변수(단어)에 1이라는 개념(내용)을 넣을 수 있으며, 이를 식으로 표현하면 a = 1이 된다.\r\n",
        "\r\n",
        "###2. 제어문\r\n",
        "제어문에는 크게 두 가지의 종류가 있으며 여기에는 반복(for)와 조건(if)이 있다. 반복은 말 그대로 어떠한 동작을 제시한 숫자만큼 반복하라는 뜻이며, 조건은 변수 등이 어떠한 조건을 맞추고 있는 상황이라면, 특정 동작을 실행하라는 뜻이다.\r\n",
        "\r\n",
        "예를 들어, for 100 하에 어떠한 구문이 들어온다면, 그 구문을 100번 실행하라는 뜻이 될 것이며, if a == 2 하에 어떠한 구문이 들어온다면, 현재 a = 2일시 특정 구문을 실행하고, 그렇지 않으면 실행하지 말라는 뜻으로 해석할 수 있다.\r\n",
        "\r\n",
        "###3.3 함수\r\n",
        "함수를 간단히 정의하자면 입력, 그리고 그 입력을 적당히 변환하는 과정, 그리고 그를 거친 출력물로 이루어진 것으로 생각할 수 있다. 예를 들어 사람의 몸에서 음식물을 소화시켜 에너지로 변환시키거나 소화시켜 배설하는 것은 입력물(음식물)을 어떠한 변환과정을 거쳐 출력불(에너지 혹은 배설물)로 만드는 것이기에 함수로 볼 수 있다. 이를 추상화하면 y=f(x)로 표시할 수 있으며, x가 입력, y는 변환된 결과값, 즉 출력으로 볼 수 있다."
      ]
    }
  ]
}