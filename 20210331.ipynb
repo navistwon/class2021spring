{
  "nbformat": 4,
  "nbformat_minor": 0,
  "metadata": {
    "colab": {
      "name": "20210331.ipynb",
      "provenance": [],
      "authorship_tag": "ABX9TyMeavPK3p1HoUpFUaGwAfTf",
      "include_colab_link": true
    },
    "kernelspec": {
      "name": "python3",
      "display_name": "Python 3"
    },
    "language_info": {
      "name": "python"
    }
  },
  "cells": [
    {
      "cell_type": "markdown",
      "metadata": {
        "id": "view-in-github",
        "colab_type": "text"
      },
      "source": [
        "<a href=\"https://colab.research.google.com/github/navistwon/class2021Spring/blob/main/20210331.ipynb\" target=\"_parent\"><img src=\"https://colab.research.google.com/assets/colab-badge.svg\" alt=\"Open In Colab\"/></a>"
      ]
    },
    {
      "cell_type": "markdown",
      "metadata": {
        "id": "1_eILy-Y4APl"
      },
      "source": [
        "[아]\n",
        "\n",
        "Pitch : 135.75462620568356 Hz\n",
        "\n",
        "Intensity : 71.50016854828841 dB\n",
        "\n",
        "Formants : 617.2 Hz, 1142 Hz\n",
        "\n"
      ]
    },
    {
      "cell_type": "markdown",
      "metadata": {
        "id": "C6ewuf4Y4tFC"
      },
      "source": [
        "[애]\n",
        "\n",
        "Pitch : 145.44609300668475 Hz\n",
        "\n",
        "Intensity : 70.1893727542533 dB\n",
        "\n",
        "Formants : 343.8 Hz, 1767 Hz"
      ]
    }
  ]
}